{
 "cells": [
  {
   "cell_type": "code",
   "execution_count": 1,
   "metadata": {},
   "outputs": [
    {
     "name": "stderr",
     "output_type": "stream",
     "text": [
      "Using TensorFlow backend.\n"
     ]
    }
   ],
   "source": [
    "import tensorflow as tf\n",
    "import keras"
   ]
  },
  {
   "cell_type": "code",
   "execution_count": 2,
   "metadata": {},
   "outputs": [],
   "source": [
    "from tensorflow.keras.models import Sequential\n",
    "from tensorflow.keras.layers import Dense, LSTM\n",
    "from numpy import hstack\n",
    "from keras.utils import np_utils\n",
    "from numpy import array"
   ]
  },
  {
   "cell_type": "code",
   "execution_count": 3,
   "metadata": {},
   "outputs": [],
   "source": [
    "# 신경망의 빠른학습을 위한 정규화\n",
    "def MinMaxScalar(data):\n",
    "    mise1 = data - np.min(data, 0)\n",
    "    mise2 = np.max(data, 0) - np.min(data, 0)\n",
    "    return mise1 / mise2"
   ]
  },
  {
   "cell_type": "code",
   "execution_count": 4,
   "metadata": {},
   "outputs": [],
   "source": [
    "feature = 1 # 다음날 미세먼지를 예측하기\n",
    "steps = 1# 지난날 데이터를 기반으로 하여 "
   ]
  },
  {
   "cell_type": "code",
   "execution_count": 5,
   "metadata": {},
   "outputs": [],
   "source": [
    "# 데이터 전처리 \n",
    "from numpy import array # name 'array' is not defined 오류가 출력됨\n",
    "\n",
    "def split(mise_data, steps):\n",
    "    X, y = list(), list()\n",
    "    \n",
    "    for i in range(len(mise_data)):\n",
    "        end = i + steps\n",
    "        \n",
    "        if end > len(mise_data)-1:\n",
    "            break\n",
    "            \n",
    "        spl_x, spl_y = mise_data[i:end], mise_data[end]\n",
    "        X.append(spl_x)\n",
    "        y.append(spl_y)\n",
    "        \n",
    "    return array(X), array(y)\n",
    "   #  return X, y"
   ]
  },
  {
   "cell_type": "code",
   "execution_count": 9,
   "metadata": {},
   "outputs": [],
   "source": [
    "# 강남구데이터(2010.01.01~2018.12.31)를 Train_set으로 지정하여 데이터 전처리하기 \n",
    "import os\n",
    "import pandas as pd\n",
    "import matplotlib.pyplot as plt\n",
    "import numpy as np\n",
    "\n",
    "# 저장된 csv 파일을 읽어오기 위해 경로지정\n",
    "os.chdir(\"D:/AiProject\")\n",
    "\n",
    "# csv 파일 읽어오기\n",
    "df = pd.read_csv('Mapo-training.csv', encoding = \"CP949\" ) #utf-8오류떠서 인코딩방식지정함\n",
    "df['PM10'] = df['PM10'].fillna(df['PM10'].mean()).astype(float) # PM10 부분에 공백이 있어서 공백 데이터를 해당 열의 평균으로 대체\n",
    "df['PM2.5'] = df['PM2.5'].fillna(df['PM2.5'].mean()).astype(float) # PM 2.5 부분에 공백이 있어서 공백 데이터를 해당 열의 평균으로 대체 \n"
   ]
  },
  {
   "cell_type": "code",
   "execution_count": 13,
   "metadata": {},
   "outputs": [
    {
     "name": "stdout",
     "output_type": "stream",
     "text": [
      "(3269, 1)\n",
      "(3269,)\n"
     ]
    }
   ],
   "source": [
    "from numpy import array\n",
    "\n",
    "# PM 10 열만을 출력하여 배열로 생성 \n",
    "pm10_data = array(df[\"PM10\"])\n",
    "# PM 2.5 열만을 출력하여 배열로 생성\n",
    "pm25_data = array(df[\"PM2.5\"])\n",
    "\n",
    "x_pm10, y_pm10 = split(pm10_data, steps)\n",
    "x_pm25, y_pm25 = split(pm25_data, steps)\n",
    "\n",
    "print(x_pm10.shape)\n",
    "print(y_pm10.shape)\n",
    "\n",
    "# 정규화함수를 호출하여 각각의 배열 요소들을 정규화 \n",
    "a = MinMaxScalar(x_pm10)\n",
    "b = MinMaxScalar(y_pm10)\n",
    "c = MinMaxScalar(x_pm25)\n",
    "d = MinMaxScalar(y_pm25)\n",
    "# print(a)"
   ]
  },
  {
   "cell_type": "code",
   "execution_count": 15,
   "metadata": {},
   "outputs": [
    {
     "data": {
      "text/plain": [
       "(3269, 1, 1)"
      ]
     },
     "execution_count": 15,
     "metadata": {},
     "output_type": "execute_result"
    }
   ],
   "source": [
    "X_pm10 = a.reshape((x_pm10.shape[0], x_pm10.shape[1], 1))\n",
    "X_pm25 = a.reshape((x_pm25.shape[0], x_pm25.shape[1], 1))\n",
    "\n",
    "X_pm10.shape\n",
    "# RNN에 입력할 훈련셋 생성완료"
   ]
  },
  {
   "cell_type": "code",
   "execution_count": 16,
   "metadata": {},
   "outputs": [
    {
     "name": "stdout",
     "output_type": "stream",
     "text": [
      "Epoch 1/50\n",
      "327/327 [==============================] - 0s 811us/step - loss: 0.0026 - accuracy: 6.1181e-04\n",
      "Epoch 2/50\n",
      "327/327 [==============================] - 0s 799us/step - loss: 0.0020 - accuracy: 6.1181e-04\n",
      "Epoch 3/50\n",
      "327/327 [==============================] - 0s 817us/step - loss: 0.0018 - accuracy: 6.1181e-04\n",
      "Epoch 4/50\n",
      "327/327 [==============================] - 0s 769us/step - loss: 0.0017 - accuracy: 6.1181e-04\n",
      "Epoch 5/50\n",
      "327/327 [==============================] - 0s 775us/step - loss: 0.0016 - accuracy: 6.1181e-04\n",
      "Epoch 6/50\n",
      "327/327 [==============================] - 0s 787us/step - loss: 0.0016 - accuracy: 6.1181e-04\n",
      "Epoch 7/50\n",
      "327/327 [==============================] - 0s 805us/step - loss: 0.0016 - accuracy: 6.1181e-04\n",
      "Epoch 8/50\n",
      "327/327 [==============================] - 0s 799us/step - loss: 0.0016 - accuracy: 6.1181e-04\n",
      "Epoch 9/50\n",
      "327/327 [==============================] - 0s 802us/step - loss: 0.0016 - accuracy: 6.1181e-04\n",
      "Epoch 10/50\n",
      "327/327 [==============================] - 0s 808us/step - loss: 0.0016 - accuracy: 6.1181e-04\n",
      "Epoch 11/50\n",
      "327/327 [==============================] - 0s 808us/step - loss: 0.0016 - accuracy: 6.1181e-04\n",
      "Epoch 12/50\n",
      "327/327 [==============================] - 0s 799us/step - loss: 0.0016 - accuracy: 6.1181e-04\n",
      "Epoch 13/50\n",
      "327/327 [==============================] - 0s 808us/step - loss: 0.0016 - accuracy: 6.1181e-04\n",
      "Epoch 14/50\n",
      "327/327 [==============================] - 0s 799us/step - loss: 0.0016 - accuracy: 6.1181e-04\n",
      "Epoch 15/50\n",
      "327/327 [==============================] - 0s 802us/step - loss: 0.0016 - accuracy: 6.1181e-04\n",
      "Epoch 16/50\n",
      "327/327 [==============================] - 0s 790us/step - loss: 0.0016 - accuracy: 6.1181e-04\n",
      "Epoch 17/50\n",
      "327/327 [==============================] - 0s 802us/step - loss: 0.0016 - accuracy: 6.1181e-04\n",
      "Epoch 18/50\n",
      "327/327 [==============================] - 0s 796us/step - loss: 0.0016 - accuracy: 6.1181e-04\n",
      "Epoch 19/50\n",
      "327/327 [==============================] - 0s 793us/step - loss: 0.0016 - accuracy: 6.1181e-04\n",
      "Epoch 20/50\n",
      "327/327 [==============================] - 0s 814us/step - loss: 0.0016 - accuracy: 6.1181e-04\n",
      "Epoch 21/50\n",
      "327/327 [==============================] - 0s 820us/step - loss: 0.0016 - accuracy: 6.1181e-04\n",
      "Epoch 22/50\n",
      "327/327 [==============================] - 0s 854us/step - loss: 0.0016 - accuracy: 6.1181e-04\n",
      "Epoch 23/50\n",
      "327/327 [==============================] - 0s 820us/step - loss: 0.0016 - accuracy: 6.1181e-04\n",
      "Epoch 24/50\n",
      "327/327 [==============================] - 0s 814us/step - loss: 0.0016 - accuracy: 6.1181e-04\n",
      "Epoch 25/50\n",
      "327/327 [==============================] - 0s 814us/step - loss: 0.0016 - accuracy: 6.1181e-04\n",
      "Epoch 26/50\n",
      "327/327 [==============================] - 0s 796us/step - loss: 0.0016 - accuracy: 6.1181e-04\n",
      "Epoch 27/50\n",
      "327/327 [==============================] - 0s 799us/step - loss: 0.0016 - accuracy: 6.1181e-04\n",
      "Epoch 28/50\n",
      "327/327 [==============================] - 0s 802us/step - loss: 0.0016 - accuracy: 6.1181e-04\n",
      "Epoch 29/50\n",
      "327/327 [==============================] - 0s 802us/step - loss: 0.0016 - accuracy: 6.1181e-04\n",
      "Epoch 30/50\n",
      "327/327 [==============================] - 0s 808us/step - loss: 0.0015 - accuracy: 6.1181e-04\n",
      "Epoch 31/50\n",
      "327/327 [==============================] - 0s 793us/step - loss: 0.0015 - accuracy: 6.1181e-04\n",
      "Epoch 32/50\n",
      "327/327 [==============================] - 0s 793us/step - loss: 0.0015 - accuracy: 6.1181e-04\n",
      "Epoch 33/50\n",
      "327/327 [==============================] - 0s 796us/step - loss: 0.0015 - accuracy: 6.1181e-04\n",
      "Epoch 34/50\n",
      "327/327 [==============================] - 0s 802us/step - loss: 0.0015 - accuracy: 6.1181e-04\n",
      "Epoch 35/50\n",
      "327/327 [==============================] - 0s 796us/step - loss: 0.0015 - accuracy: 6.1181e-04\n",
      "Epoch 36/50\n",
      "327/327 [==============================] - 0s 827us/step - loss: 0.0015 - accuracy: 6.1181e-04\n",
      "Epoch 37/50\n",
      "327/327 [==============================] - 0s 814us/step - loss: 0.0015 - accuracy: 6.1181e-04\n",
      "Epoch 38/50\n",
      "327/327 [==============================] - 0s 799us/step - loss: 0.0015 - accuracy: 6.1181e-04\n",
      "Epoch 39/50\n",
      "327/327 [==============================] - 0s 811us/step - loss: 0.0015 - accuracy: 6.1181e-04\n",
      "Epoch 40/50\n",
      "327/327 [==============================] - 0s 808us/step - loss: 0.0015 - accuracy: 6.1181e-04\n",
      "Epoch 41/50\n",
      "327/327 [==============================] - 0s 796us/step - loss: 0.0015 - accuracy: 6.1181e-04\n",
      "Epoch 42/50\n",
      "327/327 [==============================] - 0s 817us/step - loss: 0.0015 - accuracy: 6.1181e-04\n",
      "Epoch 43/50\n",
      "327/327 [==============================] - 0s 827us/step - loss: 0.0015 - accuracy: 6.1181e-04\n",
      "Epoch 44/50\n",
      "327/327 [==============================] - 0s 830us/step - loss: 0.0015 - accuracy: 6.1181e-04\n",
      "Epoch 45/50\n",
      "327/327 [==============================] - 0s 799us/step - loss: 0.0015 - accuracy: 6.1181e-04\n",
      "Epoch 46/50\n",
      "327/327 [==============================] - 0s 799us/step - loss: 0.0015 - accuracy: 6.1181e-04\n",
      "Epoch 47/50\n",
      "327/327 [==============================] - 0s 802us/step - loss: 0.0015 - accuracy: 6.1181e-04\n",
      "Epoch 48/50\n",
      "327/327 [==============================] - 0s 799us/step - loss: 0.0015 - accuracy: 6.1181e-04\n",
      "Epoch 49/50\n",
      "327/327 [==============================] - 0s 805us/step - loss: 0.0015 - accuracy: 6.1181e-04\n",
      "Epoch 50/50\n",
      "327/327 [==============================] - 0s 787us/step - loss: 0.0015 - accuracy: 6.1181e-04\n"
     ]
    },
    {
     "data": {
      "text/plain": [
       "<bound method Network.summary of <tensorflow.python.keras.engine.sequential.Sequential object at 0x0000016DB8D9E448>>"
      ]
     },
     "execution_count": 16,
     "metadata": {},
     "output_type": "execute_result"
    }
   ],
   "source": [
    "# 심층 RNN 구현 LSTM 알고리즘 사용\n",
    "model = Sequential()\n",
    "model.add(LSTM(32, activation = 'relu', input_shape = (steps,feature) )) \n",
    "\n",
    "# model.add(LSTM(32, activation = 'relu'))\n",
    "model.add(Dense(1))\n",
    "\n",
    "model.compile(optimizer = 'adam', loss = 'mse', metrics = ['accuracy'])\n",
    "\n",
    "hist1 = model.fit(X_pm10, b, epochs = 50, batch_size = 10 , verbose = 1)\n",
    "\n",
    "model.summary\n"
   ]
  },
  {
   "cell_type": "code",
   "execution_count": 17,
   "metadata": {},
   "outputs": [
    {
     "data": {
      "image/png": "[encoded data removed]",
      "text/plain": [
       "<Figure size 432x288 with 1 Axes>"
      ]
     },
     "metadata": {
      "needs_background": "light"
     },
     "output_type": "display_data"
    }
   ],
   "source": [
    "plt.plot(hist1.history['loss'])\n",
    "plt.ylim(0.0, 0.01)\n",
    "plt.ylabel('loss')\n",
    "plt.xlabel('epoch')\n",
    "plt.legend(['PM10'], loc = 'upper right')\n",
    "plt.show()"
   ]
  },
  {
   "cell_type": "code",
   "execution_count": 21,
   "metadata": {},
   "outputs": [],
   "source": [
    "TEST1 = pd.read_csv('Mapo-test01.csv', encoding = 'CP949') # 테스트셋\n",
    "TEST1['PM10'] = TEST1['PM10'].fillna(TEST1['PM10'].mean()).astype(float) \n",
    "\n",
    "TEST2 = pd.read_csv('Mapo-tests.csv', encoding = 'CP949') # 테스트셋\n",
    "TEST2['PM10'] = TEST2['PM10'].fillna(TEST2['PM10'].mean()).astype(float) \n",
    "\n",
    "test_pm10_1 = array(TEST1['PM10'])\n",
    "x_testpm10_1, y_testpm10_1 = split(test_pm10_1, steps)\n",
    "test_a1 = MinMaxScalar(x_testpm10_1)\n",
    "test_b1 = MinMaxScalar(y_testpm10_1)\n",
    "Test_PM10_1 = MinMaxScalar(test_a1)\n",
    "x_testpm10_1= test_a1.reshape((x_testpm10_1.shape[0], x_testpm10_1.shape[1], 1))\n",
    "\n",
    "# 테스트 모델을 가지고 예측해보기\n",
    "y_pred1 = model.predict(x_testpm10_1)\n",
    "\n",
    "test_pm10_2 = array(TEST2['PM10'])\n",
    "x_testpm10_2, y_testpm10_2 = split(test_pm10_2, steps)\n",
    "test_a2 = MinMaxScalar(x_testpm10_2)\n",
    "test_b2 = MinMaxScalar(y_testpm10_2)\n",
    "Test_PM10_2 = MinMaxScalar(test_a2)\n",
    "x_testpm10_2 = test_a2.reshape((x_testpm10_2.shape[0], x_testpm10_2.shape[1], 1))\n",
    "\n",
    "# 테스트 모델을 가지고 예측해보기\n",
    "y_pred2 = model.predict(x_testpm10_2)"
   ]
  },
  {
   "cell_type": "code",
   "execution_count": 24,
   "metadata": {},
   "outputs": [
    {
     "data": {
      "image/png": "[encoded data removed]",
      "text/plain": [
       "<Figure size 432x288 with 2 Axes>"
      ]
     },
     "metadata": {
      "needs_background": "light"
     },
     "output_type": "display_data"
    }
   ],
   "source": [
    "# 2019.01월 자료를 test set으로 생성하여 예측값과 실제값 비교\n",
    "# 2019.02.01~ 2019.12.31 자료를 test set으로 만들어 예측값과 실제값 비교 \n",
    "# 수집한 자료를 보면 가끔씩 비정상적으로 미세먼지가 많이 측정된 날이 보임 평균보다 많은 미세먼지 검출된 날임\n",
    "\n",
    "plt.subplot(1,2,1)\n",
    "plt.plot(Test_PM10_1, 'r')\n",
    "plt.plot(y_pred1, 'b')\n",
    "plt.title(\"Mapo-gu-Jan\")\n",
    "plt.xlim(0,31)\n",
    "plt.ylabel('PM10', fontsize = 30)\n",
    "\n",
    "\n",
    "plt.subplot(1,2,2)\n",
    "plt.plot(Test_PM10_2, 'r')\n",
    "plt.plot(y_pred2, 'b')\n",
    "plt.title(\"Mapo-gu\")\n",
    "plt.ylabel('PM10', fontsize = 30)\n",
    "\n",
    "\n",
    "plt.tight_layout()\n",
    "plt.show()"
   ]
  },
  {
   "cell_type": "code",
   "execution_count": 26,
   "metadata": {},
   "outputs": [
    {
     "name": "stdout",
     "output_type": "stream",
     "text": [
      "2019년 마포구 1월 미세먼지예측값 오차율 =  0.20925387589617733\n",
      "2019년 마포구 2월~12월 미세먼지예측값 오차율 =  0.10431784219544704\n"
     ]
    }
   ],
   "source": [
    "# 예측값과 실제값 오류를 알아보기\n",
    "from sklearn.metrics import mean_squared_error\n",
    "from math import sqrt\n",
    "\n",
    "error1 = sqrt(mean_squared_error(Test_PM10_1, y_pred1))\n",
    "error2 = sqrt(mean_squared_error(Test_PM10_2, y_pred2))\n",
    "\n",
    "print(\"2019년 마포구 1월 미세먼지예측값 오차율 = \", error1)\n",
    "print(\"2019년 마포구 2월~12월 미세먼지예측값 오차율 = \", error2)"
   ]
  },
  {
   "cell_type": "code",
   "execution_count": 27,
   "metadata": {},
   "outputs": [
    {
     "name": "stdout",
     "output_type": "stream",
     "text": [
      "Epoch 1/50\n",
      "327/327 [==============================] - 0s 772us/step - loss: 0.0097\n",
      "Epoch 2/50\n",
      "327/327 [==============================] - 0s 778us/step - loss: 0.0062\n",
      "Epoch 3/50\n",
      "327/327 [==============================] - 0s 759us/step - loss: 0.0059\n",
      "Epoch 4/50\n",
      "327/327 [==============================] - 0s 762us/step - loss: 0.0057\n",
      "Epoch 5/50\n",
      "327/327 [==============================] - 0s 769us/step - loss: 0.0057\n",
      "Epoch 6/50\n",
      "327/327 [==============================] - 0s 766us/step - loss: 0.0056\n",
      "Epoch 7/50\n",
      "327/327 [==============================] - 0s 766us/step - loss: 0.0055\n",
      "Epoch 8/50\n",
      "327/327 [==============================] - 0s 756us/step - loss: 0.0055\n",
      "Epoch 9/50\n",
      "327/327 [==============================] - 0s 772us/step - loss: 0.0054\n",
      "Epoch 10/50\n",
      "327/327 [==============================] - 0s 772us/step - loss: 0.0053\n",
      "Epoch 11/50\n",
      "327/327 [==============================] - 0s 759us/step - loss: 0.0053\n",
      "Epoch 12/50\n",
      "327/327 [==============================] - 0s 753us/step - loss: 0.0052\n",
      "Epoch 13/50\n",
      "327/327 [==============================] - 0s 759us/step - loss: 0.0051\n",
      "Epoch 14/50\n",
      "327/327 [==============================] - 0s 756us/step - loss: 0.0051\n",
      "Epoch 15/50\n",
      "327/327 [==============================] - 0s 756us/step - loss: 0.0051\n",
      "Epoch 16/50\n",
      "327/327 [==============================] - 0s 756us/step - loss: 0.0050\n",
      "Epoch 17/50\n",
      "327/327 [==============================] - 0s 766us/step - loss: 0.0050\n",
      "Epoch 18/50\n",
      "327/327 [==============================] - 0s 759us/step - loss: 0.0050\n",
      "Epoch 19/50\n",
      "327/327 [==============================] - 0s 759us/step - loss: 0.0050\n",
      "Epoch 20/50\n",
      "327/327 [==============================] - 0s 762us/step - loss: 0.0050\n",
      "Epoch 21/50\n",
      "327/327 [==============================] - 0s 759us/step - loss: 0.0050\n",
      "Epoch 22/50\n",
      "327/327 [==============================] - 0s 753us/step - loss: 0.0050\n",
      "Epoch 23/50\n",
      "327/327 [==============================] - 0s 759us/step - loss: 0.0049\n",
      "Epoch 24/50\n",
      "327/327 [==============================] - 0s 759us/step - loss: 0.0050\n",
      "Epoch 25/50\n",
      "327/327 [==============================] - 0s 759us/step - loss: 0.0049\n",
      "Epoch 26/50\n",
      "327/327 [==============================] - 0s 756us/step - loss: 0.0049\n",
      "Epoch 27/50\n",
      "327/327 [==============================] - 0s 762us/step - loss: 0.0049\n",
      "Epoch 28/50\n",
      "327/327 [==============================] - 0s 762us/step - loss: 0.0050\n",
      "Epoch 29/50\n",
      "327/327 [==============================] - 0s 787us/step - loss: 0.0049\n",
      "Epoch 30/50\n",
      "327/327 [==============================] - 0s 772us/step - loss: 0.0049\n",
      "Epoch 31/50\n",
      "327/327 [==============================] - 0s 781us/step - loss: 0.0049\n",
      "Epoch 32/50\n",
      "327/327 [==============================] - 0s 784us/step - loss: 0.0049\n",
      "Epoch 33/50\n",
      "327/327 [==============================] - 0s 772us/step - loss: 0.0049\n",
      "Epoch 34/50\n",
      "327/327 [==============================] - 0s 796us/step - loss: 0.0049\n",
      "Epoch 35/50\n",
      "327/327 [==============================] - 0s 766us/step - loss: 0.0050\n",
      "Epoch 36/50\n",
      "327/327 [==============================] - 0s 756us/step - loss: 0.0049\n",
      "Epoch 37/50\n",
      "327/327 [==============================] - 0s 756us/step - loss: 0.0049\n",
      "Epoch 38/50\n",
      "327/327 [==============================] - 0s 753us/step - loss: 0.0049\n",
      "Epoch 39/50\n",
      "327/327 [==============================] - 0s 769us/step - loss: 0.0049\n",
      "Epoch 40/50\n",
      "327/327 [==============================] - 0s 753us/step - loss: 0.0049\n",
      "Epoch 41/50\n",
      "327/327 [==============================] - 0s 762us/step - loss: 0.0049\n",
      "Epoch 42/50\n",
      "327/327 [==============================] - 0s 753us/step - loss: 0.0049\n",
      "Epoch 43/50\n",
      "327/327 [==============================] - 0s 762us/step - loss: 0.0049\n",
      "Epoch 44/50\n",
      "327/327 [==============================] - 0s 766us/step - loss: 0.0049\n",
      "Epoch 45/50\n",
      "327/327 [==============================] - 0s 759us/step - loss: 0.0050\n",
      "Epoch 46/50\n",
      "327/327 [==============================] - 0s 772us/step - loss: 0.0049\n",
      "Epoch 47/50\n",
      "327/327 [==============================] - 0s 762us/step - loss: 0.0049\n",
      "Epoch 48/50\n",
      "327/327 [==============================] - 0s 760us/step - loss: 0.0049\n",
      "Epoch 49/50\n",
      "327/327 [==============================] - 0s 775us/step - loss: 0.0049\n",
      "Epoch 50/50\n",
      "327/327 [==============================] - 0s 769us/step - loss: 0.0050\n"
     ]
    },
    {
     "data": {
      "text/plain": [
       "<bound method Network.summary of <tensorflow.python.keras.engine.sequential.Sequential object at 0x0000016DB8D9E448>>"
      ]
     },
     "execution_count": 27,
     "metadata": {},
     "output_type": "execute_result"
    }
   ],
   "source": [
    "# 초미세먼지 학습시켜 예측해보기 \n",
    "model2 = Sequential()\n",
    "model2.add(LSTM(32, activation = 'relu', input_shape = (steps,feature) )) \n",
    "model2.add(Dense(1))\n",
    "model2.compile(optimizer = 'adam', loss='mse')\n",
    "\n",
    "hist2 = model2.fit(X_pm25, c, epochs = 50, batch_size = 10, verbose = 1)\n",
    "model.summary"
   ]
  },
  {
   "cell_type": "code",
   "execution_count": 32,
   "metadata": {},
   "outputs": [],
   "source": [
    "TEST1 = pd.read_csv('Mapo-tests.csv', encoding = 'CP949') # 테스트셋\n",
    "TEST1['PM2.5'] = TEST1['PM2.5'].fillna(df['PM2.5'].mean()).astype(float)\n",
    "\n",
    "\n",
    "test_pm25_1 = array(TEST1['PM2.5'])\n",
    "x_testpm25_1, y_testpm25_1 = split(test_pm25_1, steps)\n",
    "test_a1 = MinMaxScalar(x_testpm25_1)\n",
    "test_b1 = MinMaxScalar(y_testpm25_1)\n",
    "Test_PM25_1 = MinMaxScalar(test_a1)\n",
    "x_testpm25_1= test_a1.reshape((x_testpm25_1.shape[0], x_testpm25_1.shape[1], 1))\n",
    "\n",
    "# 테스트 모델을 가지고 예측해보기\n",
    "y_pred1 = model.predict(x_testpm25_1)\n"
   ]
  },
  {
   "cell_type": "code",
   "execution_count": 33,
   "metadata": {},
   "outputs": [
    {
     "data": {
      "image/png": "[encoded data removed]",
      "text/plain": [
       "<Figure size 432x288 with 1 Axes>"
      ]
     },
     "metadata": {
      "needs_background": "light"
     },
     "output_type": "display_data"
    }
   ],
   "source": [
    "plt.plot(Test_PM25_1, 'r')\n",
    "plt.plot(y_pred1, 'b')\n",
    "plt.title(\"Mapo-gu\")\n",
    "plt.ylabel('PM2.5', fontsize = 30)\n",
    "plt.show()\n"
   ]
  },
  {
   "cell_type": "code",
   "execution_count": 34,
   "metadata": {},
   "outputs": [
    {
     "name": "stdout",
     "output_type": "stream",
     "text": [
      "2019년 마포구 초미세먼지예측값 오차율 =  0.24334920718279668\n"
     ]
    }
   ],
   "source": [
    "# 예측값과 실제 값 오류를 알아보기\n",
    "from sklearn.metrics import mean_squared_error\n",
    "from math import sqrt\n",
    "\n",
    "error1 = sqrt(mean_squared_error(Test_PM25_1, y_pred1))\n",
    "\n",
    "\n",
    "print(\"2019년 마포구 초미세먼지예측값 오차율 = \", error1)\n"
   ]
  },
  {
   "cell_type": "code",
   "execution_count": null,
   "metadata": {},
   "outputs": [],
   "source": []
  }
 ],
 "metadata": {
  "kernelspec": {
   "display_name": "Python 3",
   "language": "python",
   "name": "python3"
  },
  "language_info": {
   "codemirror_mode": {
    "name": "ipython",
    "version": 3
   },
   "file_extension": ".py",
   "mimetype": "text/x-python",
   "name": "python",
   "nbconvert_exporter": "python",
   "pygments_lexer": "ipython3",
   "version": "3.7.6"
  }
 },
 "nbformat": 4,
 "nbformat_minor": 4
}
